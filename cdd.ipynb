{
 "cells": [
  {
   "cell_type": "code",
   "execution_count": null,
   "outputs": [],
   "source": [
    "import torch\n",
    "import torch.nn as nn\n",
    "import torch.optim as optim\n",
    "import pickle\n",
    "import numpy as np\n",
    "import random\n",
    "from sklearn.metrics import precision_recall_fscore_support\n",
    "from torch.utils.data import Dataset, DataLoader, random_split\n",
    "import torch.nn.functional as F\n",
    "from sklearn.metrics import accuracy_score\n",
    "\n",
    "# Define the device to use\n",
    "device = torch.device('cuda' if torch.cuda.is_available() else 'cpu')\n",
    "random_state = 20\n",
    "torch.manual_seed(random_state)\n",
    "torch.cuda.empty_cache()"
   ],
   "metadata": {
    "collapsed": false,
    "pycharm": {
     "name": "#%%\n"
    }
   }
  },
  {
   "cell_type": "code",
   "execution_count": null,
   "outputs": [],
   "source": [
    "cd /home/whut4/liyafei/newtype"
   ],
   "metadata": {
    "collapsed": false,
    "pycharm": {
     "name": "#%%\n"
    }
   }
  },
  {
   "cell_type": "code",
   "execution_count": null,
   "outputs": [],
   "source": [
    "def concatenate_arrays(arr):\n",
    "    num_arrays = len(arr) // 20  # 计算可以拼接的数组组数\n",
    "    concatenated = []\n",
    "\n",
    "    for i in range(num_arrays):\n",
    "        start_index = i * 20  # 计算每组开始的索引\n",
    "        end_index = start_index + 20  # 计算每组结束的索引\n",
    "        concat_array = np.concatenate(arr[start_index:end_index], axis=0)\n",
    "        reshaped_array = concat_array.reshape((20, 384))  # 重新调整数组的形状\n",
    "        concatenated.append(reshaped_array)\n",
    "\n",
    "    return np.stack(concatenated)"
   ],
   "metadata": {
    "collapsed": false,
    "pycharm": {
     "name": "#%%\n"
    }
   }
  },
  {
   "cell_type": "code",
   "execution_count": null,
   "outputs": [],
   "source": [
    "def load_data(D1, portion):\n",
    "    with open(\"{}/{}_normal.pickle\".format(D1, D1), \"rb\") as f:\n",
    "        D1_normal_logs = pickle.load(f)\n",
    "    with open(\"{}/{}_abnormal.pickle\".format(D1, D1), \"rb\") as f:\n",
    "        D1_abnormal_logs = pickle.load(f)\n",
    "\n",
    "    D1_normal_logs = concatenate_arrays(D1_normal_logs)\n",
    "    D1_abnormal_logs = concatenate_arrays(D1_abnormal_logs)\n",
    "\n",
    "    D1_normal_logs = D1_normal_logs[:int(len(D1_normal_logs) * portion)]\n",
    "    D1_abnormal_logs = D1_abnormal_logs[:int(len(D1_abnormal_logs) * portion)]\n",
    "\n",
    "    D1_normal_logs = torch.tensor(D1_normal_logs)\n",
    "    D1_abnormal_logs = torch.tensor(D1_abnormal_logs)\n",
    "\n",
    "    return D1_normal_logs, D1_abnormal_logs"
   ],
   "metadata": {
    "collapsed": false,
    "pycharm": {
     "name": "#%%\n"
    }
   }
  },
  {
   "cell_type": "code",
   "execution_count": null,
   "outputs": [],
   "source": [
    "def random_sample_and_remove(tensor, num):\n",
    "    # 生成一个随机排列的索引\n",
    "    indices = torch.randperm(tensor.size(0))\n",
    "\n",
    "    # 选择num个随机索引以创建子tensor A\n",
    "    selected_indices = indices[:num]\n",
    "    tensor_A = torch.index_select(tensor, 0, selected_indices)\n",
    "\n",
    "    # 使用剩余的索引创建一个删除了tensor A的tensor\n",
    "    remaining_indices = indices[num:]\n",
    "    tensor_remaining = torch.index_select(tensor, 0, remaining_indices)\n",
    "\n",
    "    return tensor_A, tensor_remaining"
   ],
   "metadata": {
    "collapsed": false,
    "pycharm": {
     "name": "#%%\n"
    }
   }
  },
  {
   "cell_type": "code",
   "execution_count": null,
   "outputs": [],
   "source": [
    "class LogDataset(Dataset):\n",
    "    def __init__(self, normal_data, abnormal_data):\n",
    "        self.data = torch.cat((normal_data, abnormal_data), dim=0)\n",
    "        self.labels = torch.cat((torch.zeros(normal_data.size(0), dtype=torch.long),\n",
    "                                 torch.ones(abnormal_data.size(0), dtype=torch.long)), dim=0)\n",
    "\n",
    "    def __len__(self):\n",
    "        return len(self.data)\n",
    "\n",
    "    def __getitem__(self, idx):\n",
    "        return self.data[idx], self.labels[idx]"
   ],
   "metadata": {
    "collapsed": false,
    "pycharm": {
     "name": "#%%\n"
    }
   }
  },
  {
   "cell_type": "code",
   "execution_count": null,
   "outputs": [],
   "source": [
    "class LSTMClassifier(nn.Module):\n",
    "    def __init__(self, input_size = 384, hidden_size = 500, num_layers = 2, num_classes=2, dropout=0.3):\n",
    "        super(LSTMClassifier, self).__init__()\n",
    "\n",
    "        self.lstm = nn.LSTM(input_size,\n",
    "                            hidden_size,\n",
    "                            num_layers,\n",
    "                            batch_first=True,\n",
    "                            dropout=dropout,\n",
    "                            bidirectional=True)\n",
    "\n",
    "        # Considering bidirectional LSTM, hence multiplying by 2 for the final layer output size\n",
    "        self.fc = nn.Linear(hidden_size * 2, num_classes)\n",
    "\n",
    "    def forward(self, x):\n",
    "        # Passing the input sequence through LSTM layers\n",
    "        lstm_out, _ = self.lstm(x)\n",
    "\n",
    "        # For feature extraction, we will use the last output of the sequence before classification\n",
    "        features = lstm_out[:, -1, :]\n",
    "        out = self.fc(features)\n",
    "\n",
    "        return out, features  # return both output and features"
   ],
   "metadata": {
    "collapsed": false,
    "pycharm": {
     "name": "#%%\n"
    }
   }
  },
  {
   "cell_type": "code",
   "execution_count": null,
   "outputs": [],
   "source": [
    "def feature_distance(features1, features2, labels_D1, labels_D2):\n",
    "    # Extract normal features based on labels\n",
    "    normal_features1 = features1[labels_D1 == 0]\n",
    "    normal_features2 = features2[labels_D2 == 0]\n",
    "\n",
    "    # Extract abnormal features based on labels\n",
    "    abnormal_features1 = features1[labels_D1 == 1]\n",
    "    abnormal_features2 = features2[labels_D2 == 1]\n",
    "\n",
    "    # Ensure the normal and abnormal features are of the same size across domains\n",
    "    # Take the minimum size and slice both features1 and features2 accordingly\n",
    "    min_normal_size = min(normal_features1.size(0), normal_features2.size(0))\n",
    "    min_abnormal_size = min(abnormal_features1.size(0), abnormal_features2.size(0))\n",
    "\n",
    "    normal_features1 = normal_features1[:min_normal_size]\n",
    "    normal_features2 = normal_features2[:min_normal_size]\n",
    "\n",
    "    abnormal_features1 = abnormal_features1[:min_abnormal_size]\n",
    "    abnormal_features2 = abnormal_features2[:min_abnormal_size]\n",
    "\n",
    "    # Compute the distance between normal features and abnormal features\n",
    "    normal_distance = F.mse_loss(normal_features1, normal_features2)\n",
    "    abnormal_distance = F.mse_loss(abnormal_features1, abnormal_features2)\n",
    "\n",
    "    # Compute the distance between entire features1 and features2\n",
    "    # Ensure the two features are of the same size\n",
    "    min_size = min(features1.size(0), features2.size(0))\n",
    "    total_features_distance = F.mse_loss(features1[:min_size], features2[:min_size])\n",
    "\n",
    "    # Combine both distances (here I am taking an average, but you can combine them in any other way that suits your needs)\n",
    "    average_distance = (normal_distance + abnormal_distance) / 2.0\n",
    "\n",
    "    return average_distance, total_features_distance"
   ],
   "metadata": {
    "collapsed": false,
    "pycharm": {
     "name": "#%%\n"
    }
   }
  },
  {
   "cell_type": "code",
   "execution_count": null,
   "outputs": [],
   "source": [
    "def feature_distance2(features1, features2, labels_D1, labels_D2):\n",
    "    # Extract normal features based on labels\n",
    "    normal_mask1 = labels_D1 == 0\n",
    "    normal_mask2 = labels_D2 == 0\n",
    "\n",
    "    # Extract abnormal features based on labels\n",
    "    abnormal_mask1 = labels_D1 == 1\n",
    "    abnormal_mask2 = labels_D2 == 1\n",
    "\n",
    "    # Broadcast and repeat the normal and abnormal masks if necessary\n",
    "    normal_mask1, normal_mask2 = torch.broadcast_tensors(normal_mask1, normal_mask2)\n",
    "    abnormal_mask1, abnormal_mask2 = torch.broadcast_tensors(abnormal_mask1, abnormal_mask2)\n",
    "\n",
    "    # Compute the mean squared error loss for normal features\n",
    "    normal_distance = F.mse_loss(features1[normal_mask1], features2[normal_mask2])\n",
    "\n",
    "    # Compute the mean squared error loss for abnormal features\n",
    "    abnormal_distance = F.mse_loss(features1[abnormal_mask1], features2[abnormal_mask2])\n",
    "\n",
    "    # Broadcast and repeat the entire features if necessary\n",
    "    features1, features2 = torch.broadcast_tensors(features1, features2)\n",
    "\n",
    "    # Compute the mean squared error loss for entire features1 and features2\n",
    "    total_features_distance = F.mse_loss(features1, features2)\n",
    "\n",
    "    # Combine both distances (here I am taking an average, but you can combine them in any other way that suits your needs)\n",
    "    average_distance = (normal_distance + abnormal_distance) / 2.0\n",
    "\n",
    "    return average_distance, total_features_distance"
   ],
   "metadata": {
    "collapsed": false,
    "pycharm": {
     "name": "#%%\n"
    }
   }
  },
  {
   "cell_type": "code",
   "execution_count": null,
   "outputs": [],
   "source": [
    "def train_model_source(model, train_loader, num_epochs, learning_rate, patience, factor, froze = False):\n",
    "    # Loss and optimizer\n",
    "    criterion = nn.CrossEntropyLoss()\n",
    "    optimizer = optim.Adam(model.parameters(), lr=learning_rate)\n",
    "\n",
    "    if froze:\n",
    "        for param in model.fc.parameters():\n",
    "            param.requires_grad = False\n",
    "\n",
    "    # Learning rate scheduler\n",
    "    scheduler = optim.lr_scheduler.ReduceLROnPlateau(optimizer, mode='min', factor=factor, patience=patience, verbose=True)\n",
    "\n",
    "    # Model training\n",
    "    for epoch in range(num_epochs):\n",
    "        model.train()\n",
    "\n",
    "        epoch_loss = 0.0\n",
    "        for i, (logs, labels) in enumerate(train_loader):\n",
    "            optimizer.zero_grad()\n",
    "\n",
    "            logs = logs.to(device)\n",
    "            outputs_D1, features_D1 = model(logs)\n",
    "\n",
    "            labels = labels.to(device)\n",
    "            loss = criterion(outputs_D1, labels)\n",
    "\n",
    "            loss.backward()\n",
    "            optimizer.step()\n",
    "            epoch_loss += loss.item()\n",
    "\n",
    "            if (i+1) % 50 == 0:\n",
    "                print(f'Epoch [{epoch+1}/{num_epochs}], Step [{i+1}/{len(train_loader)}], Loss: {loss.item():.4f}')\n",
    "\n",
    "        # Average loss for the epoch\n",
    "        epoch_loss /= len(train_loader)\n",
    "\n",
    "        # Step the learning rate scheduler based on the epoch's average loss\n",
    "        scheduler.step(epoch_loss)\n",
    "\n",
    "    print('Finished Training')"
   ],
   "metadata": {
    "collapsed": false,
    "pycharm": {
     "name": "#%%\n"
    }
   }
  },
  {
   "cell_type": "code",
   "execution_count": null,
   "outputs": [],
   "source": [
    "def train_model(model, train_loader_D1, train_loader_D2, num_epochs, learning_rate, patience, factor, froze, alpha=0.5, beta = 0.5):\n",
    "    criterion = nn.CrossEntropyLoss()\n",
    "    optimizer = optim.Adam(model.parameters(), lr=learning_rate)\n",
    "    scheduler = optim.lr_scheduler.ReduceLROnPlateau(optimizer, mode='min', factor=factor, patience=patience, verbose=True)\n",
    "\n",
    "    if froze:\n",
    "        for param in model.fc.parameters():\n",
    "            param.requires_grad = False\n",
    "\n",
    "    for epoch in range(num_epochs):\n",
    "        model.train()\n",
    "        epoch_loss = 0.0\n",
    "\n",
    "        for (logs_D1, labels_D1), (logs_D2, labels_D2) in zip(train_loader_D1, train_loader_D2):\n",
    "            optimizer.zero_grad()\n",
    "\n",
    "            logs_D1, logs_D2 = logs_D1.to(device), logs_D2.to(device)\n",
    "            outputs_D1, features_D1 = model(logs_D1)\n",
    "            outputs_D2, features_D2 = model(logs_D2)\n",
    "\n",
    "            labels_D1, labels_D2 = labels_D1.to(device), labels_D2.to(device)\n",
    "            loss_classification_D1 = criterion(outputs_D1, labels_D1)\n",
    "            loss_classification_D2 = criterion(outputs_D2, labels_D2)\n",
    "\n",
    "            # Calculate the distance between features of D1 and D2\n",
    "            loss_distance, entire_distance = feature_distance(features_D1, features_D2, labels_D1, labels_D2)\n",
    "\n",
    "            # Total loss is a combination of classification loss and feature distance\n",
    "            total_loss = alpha * loss_classification_D1 + (1 - alpha) * loss_distance - beta * entire_distance\n",
    "\n",
    "\n",
    "\n",
    "            total_loss.backward()\n",
    "            optimizer.step()\n",
    "\n",
    "            # print(alpha * loss_classification_D1)\n",
    "            # print((1 - alpha) * loss_distance)\n",
    "            # print(beta * entire_distance)\n",
    "            # print(total_loss.item())\n",
    "            # print('---')\n",
    "\n",
    "            epoch_loss += total_loss.item()\n",
    "\n",
    "        epoch_loss /= len(train_loader_D1)\n",
    "\n",
    "        scheduler.step(epoch_loss)\n",
    "        print(f'Epoch [{epoch+1}/{num_epochs}], Loss: {epoch_loss:.4f}')\n",
    "\n",
    "    print('Finished Training')"
   ],
   "metadata": {
    "collapsed": false,
    "pycharm": {
     "name": "#%%\n"
    }
   }
  },
  {
   "cell_type": "code",
   "execution_count": null,
   "outputs": [],
   "source": [
    "def test_model(model, test_loader, dataset_name):\n",
    "    model.eval()\n",
    "    all_preds = []\n",
    "    all_labels = []\n",
    "    with torch.no_grad():\n",
    "        for logs, labels in test_loader:\n",
    "            logs = logs.to(device)\n",
    "            outputs, _ = model(logs)\n",
    "            _, predicted = torch.max(outputs, 1)\n",
    "            all_preds.extend(predicted.cpu().numpy())\n",
    "            all_labels.extend(labels.cpu().numpy())\n",
    "\n",
    "    precision, recall, f1, _ = precision_recall_fscore_support(all_labels, all_preds, average='binary')\n",
    "    accuracy = accuracy_score(all_labels, all_preds)  # compute accuracy\n",
    "\n",
    "    print(f\"\\nResults for {dataset_name}:\")\n",
    "    print(f\"Precision: {precision:.4f}\")\n",
    "    print(f\"Recall: {recall:.4f}\")\n",
    "    print(f\"F1 Score: {f1:.4f}\")\n",
    "    print(f\"Accuracy: {accuracy:.4f}\\n\")  # display accuracy\n",
    "\n",
    "    return precision, recall, f1, accuracy  # return accuracy as well"
   ],
   "metadata": {
    "collapsed": false,
    "pycharm": {
     "name": "#%%\n"
    }
   }
  },
  {
   "cell_type": "code",
   "execution_count": null,
   "outputs": [],
   "source": [
    "def generate_two_digit_decimal():\n",
    "    return round(random.uniform(0, 1), 2)"
   ],
   "metadata": {
    "collapsed": false,
    "pycharm": {
     "name": "#%%\n"
    }
   }
  },
  {
   "cell_type": "code",
   "execution_count": null,
   "outputs": [],
   "source": [
    "direction = 'HDFS->Hadoop'\n",
    "# direction = 'Hadoop->HDFS'\n",
    "\n",
    "# direction = 'BGL->TB'\n",
    "# direction = 'TB->BGL'\n",
    "\n",
    "# direction = 'TB->Spirit'\n",
    "# direction = 'Spirit->TB'\n",
    "\n",
    "# direction = 'BGL->Spirit'\n",
    "# direction = 'Spirit->BGL'\n",
    "\n",
    "train_size_B = 50\n",
    "\n",
    "D1_name = direction.split('->')[0]\n",
    "D2_name = direction.split('->')[1]"
   ],
   "metadata": {
    "collapsed": false,
    "pycharm": {
     "name": "#%%\n"
    }
   }
  },
  {
   "cell_type": "code",
   "execution_count": null,
   "outputs": [],
   "source": [
    "D1_normal_logs, D1_abnormal_logs = load_data(D1_name, portion = 1)\n",
    "\n",
    "# 创建数据集\n",
    "dataset_A = LogDataset(D1_normal_logs, D1_abnormal_logs)\n",
    "\n",
    "# 划分训练集和测试集\n",
    "train_size_A = int(0.8 * len(dataset_A))\n",
    "test_size_A = len(dataset_A) - train_size_A\n",
    "train_dataset_A, test_dataset_A = random_split(dataset_A, [train_size_A, test_size_A])\n",
    "\n",
    "# 创建数据加载器\n",
    "batch_size = 32\n",
    "train_loader_A = DataLoader(train_dataset_A, batch_size=batch_size, shuffle=True)\n",
    "test_loader_A = DataLoader(test_dataset_A, batch_size=batch_size, shuffle=False)\n",
    "\n",
    "D2_normal_logs, D2_abnormal_logs = load_data(D2_name, portion = 1)\n",
    "\n",
    "D2_normal_train_logs, D2_normal_test_logs = random_sample_and_remove(D2_normal_logs, int(train_size_B / 10))\n",
    "D2_abnormal_train_logs, D2_abnormal_test_logs = random_sample_and_remove(D2_abnormal_logs, train_size_B)\n",
    "\n",
    "train_dataset_B = LogDataset(D2_normal_train_logs, D2_abnormal_train_logs)\n",
    "test_dataset_B = LogDataset(D2_normal_test_logs, D2_abnormal_test_logs)\n",
    "\n",
    "train_loader_B = DataLoader(train_dataset_B, batch_size=batch_size, shuffle=True)\n",
    "test_loader_B = DataLoader(test_dataset_B, batch_size=batch_size, shuffle=False)"
   ],
   "metadata": {
    "collapsed": false,
    "pycharm": {
     "name": "#%%\n"
    }
   }
  },
  {
   "cell_type": "code",
   "execution_count": null,
   "outputs": [],
   "source": [
    "# Initialize the model\n",
    "input_size = 384\n",
    "num_layers = 2\n",
    "model = LSTMClassifier().to(device)"
   ],
   "metadata": {
    "collapsed": false,
    "pycharm": {
     "name": "#%%\n"
    }
   }
  },
  {
   "cell_type": "code",
   "execution_count": null,
   "outputs": [],
   "source": [],
   "metadata": {
    "collapsed": false,
    "pycharm": {
     "name": "#%%\n"
    }
   }
  },
  {
   "cell_type": "code",
   "execution_count": null,
   "outputs": [],
   "source": [
    "model.load_state_dict(torch.load(f'{direction}_cdd.pth'))\n",
    "train_model(model, train_loader_B, train_loader_A, num_epochs=500, learning_rate=0.001, patience=50, factor=0.5, froze=True, alpha=0.3, beta = 0.3)\n",
    "test_model(model, test_loader_B, dataset_name=D2_name)"
   ],
   "metadata": {
    "collapsed": false,
    "pycharm": {
     "name": "#%%\n"
    }
   }
  },
  {
   "cell_type": "code",
   "execution_count": null,
   "outputs": [],
   "source": [
    "model.load_state_dict(torch.load(f'{direction}_cdd.pth'))\n",
    "train_model(model, train_loader_B, train_loader_A, num_epochs=500, learning_rate=0.001, patience=50, factor=0.5, froze=True, alpha=1, beta = 0)\n",
    "test_model(model, test_loader_B, dataset_name=D2_name)"
   ],
   "metadata": {
    "collapsed": false,
    "pycharm": {
     "name": "#%%\n"
    }
   }
  },
  {
   "cell_type": "code",
   "execution_count": null,
   "outputs": [],
   "source": [],
   "metadata": {
    "collapsed": false,
    "pycharm": {
     "name": "#%%\n"
    }
   }
  },
  {
   "cell_type": "code",
   "execution_count": null,
   "outputs": [],
   "source": [],
   "metadata": {
    "collapsed": false,
    "pycharm": {
     "name": "#%%\n"
    }
   }
  }
 ],
 "metadata": {
  "kernelspec": {
   "display_name": "Python 3",
   "language": "python",
   "name": "python3"
  },
  "language_info": {
   "codemirror_mode": {
    "name": "ipython",
    "version": 2
   },
   "file_extension": ".py",
   "mimetype": "text/x-python",
   "name": "python",
   "nbconvert_exporter": "python",
   "pygments_lexer": "ipython2",
   "version": "2.7.6"
  }
 },
 "nbformat": 4,
 "nbformat_minor": 0
}